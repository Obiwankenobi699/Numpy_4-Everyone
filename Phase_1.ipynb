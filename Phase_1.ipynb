{
 "cells": [
  {
   "metadata": {},
   "cell_type": "markdown",
   "source": "Numpy_4Everyone",
   "id": "e17b90e2a5dd39d1"
  },
  {
   "metadata": {},
   "cell_type": "code",
   "source": "import numpy as np",
   "id": "e55fb1bf6fdf1cdc",
   "outputs": [],
   "execution_count": null
  },
  {
   "metadata": {},
   "cell_type": "markdown",
   "source": "Creating array from list",
   "id": "6c356e12392f30d9"
  },
  {
   "metadata": {},
   "cell_type": "code",
   "source": [
    "import numpy as np\n",
    "arr_1d = np.array([1,2,3,4,5])\n",
    "print(arr_1d)\n",
    "\n",
    "arr_2d = np.array([[1,2],[3,4]])\n",
    "print(arr_2d)"
   ],
   "id": "50676c21588de9be",
   "outputs": [],
   "execution_count": null
  },
  {
   "metadata": {},
   "cell_type": "markdown",
   "source": [
    "  Difference btw normal array and np array\n",
    "Feature             | Python List                | NumPy Array\n",
    "--------------------|----------------------------|----------------------------\n",
    "Type                | Heterogeneous (mixed types)| Homogeneous (same type)\n",
    "Performance         | Slower (pure Python loop)  | Faster (C-optimized)\n",
    "Memory Usage        | More memory                | Less memory\n",
    "Math Operations     | Not supported directly     | Element-wise supported\n",
    "Indexing            | Basic indexing/slicing     | Advanced indexing/slicing\n",
    "Broadcasting        | Not supported              | Supported\n",
    "Multi-dimensional   | Needs nesting              | Built-in multi-dimensional\n",
    "Best For            | Small, mixed-type data     | Large numeric data, ML/DL\n"
   ],
   "id": "44d1bbc1aa5c79bb"
  },
  {
   "metadata": {},
   "cell_type": "code",
   "source": [
    "import numpy as np\n",
    "import time\n",
    "\n",
    "\n",
    "# --- Multiply elements by 2 in a Python list ---\n",
    "start = time.time()\n",
    "py_list = [1, 2, 3, 4, 5]\n",
    "py_list_result = [x * 2 for x in py_list]\n",
    "end = time.time()\n",
    "print(f\"Python list time: {end - start:.5f} seconds\")\n",
    "\n",
    "# --- Multiply elements by 2 in a NumPy array ---\n",
    "start = time.time()\n",
    "np_array = np.array([1, 2, 3, 4, 5])\n",
    "np_array_result = np_array * 2\n",
    "end = time.time()\n",
    "print(f\"NumPy array time: {end - start:.5f} seconds\")\n",
    "\n",
    "\n",
    "# Python list\n",
    "py_list = [1, 2, 3, 4, 5]\n",
    "print(\"Python list result:\", py_list*2)\n",
    "\n",
    "py_list_result = list(map(lambda x: x * 2,py_list))\n",
    "print(py_list_result)\n",
    "\n",
    "\n",
    "# NumPy array vector element\n",
    "np_array = np.array([1, 2, 3, 4, 5])\n",
    "print(\"NumPy array result:\", np_array*2)\n",
    "\n"
   ],
   "id": "9ab059f9626e5ba2",
   "outputs": [],
   "execution_count": null
  },
  {
   "metadata": {},
   "cell_type": "markdown",
   "source": "Types of build it method to make array",
   "id": "afd1ac60d2a9d2f5"
  },
  {
   "metadata": {},
   "cell_type": "code",
   "source": [
    "import numpy as np\n",
    "\n",
    "# 1️⃣ From a Python list or tuple\n",
    "arr_from_list = np.array([1, 2, 3, 4, 5])\n",
    "arr_from_tuple = np.array((6, 7, 8, 9, 10))\n",
    "\n",
    "# 2️⃣ Arrays of zeros, ones, empty values\n",
    "zeros_arr = np.zeros((3, 3))     # 3x3 matrix of zeros\n",
    "ones_arr = np.ones((2, 4))       # 2x4 matrix of ones\n",
    "empty_arr = np.empty((2, 3))     # uninitialized (fast but random data)\n",
    "\n",
    "# 3️⃣ Identity matrix\n",
    "identity_arr = np.eye(4)         # 4x4 identity\n",
    "\n",
    "# 4️⃣ Arrays with a range of values\n",
    "range_arr = np.arange(0, 10, 2)  # start=0, stop=10, step=2\n",
    "linspace_arr = np.linspace(0, 1, 5)  # 5 equally spaced numbers from 0 to 1\n",
    "\n",
    "# 5️⃣ Constant value arrays\n",
    "full_arr = np.full((3, 3), 7)    # 3x3 matrix filled with 7\n",
    "\n",
    "# 6️⃣ Random arrays\n",
    "rand_arr = np.random.rand(2, 3)  # uniform [0,1)\n",
    "randn_arr = np.random.randn(3, 3) # normal distribution\n",
    "randint_arr = np.random.randint(1, 10, (3, 3))  # integers [1,10)\n",
    "\n",
    "# 7️⃣ Complex numbers\n",
    "complex_arr = np.array([1+2j, 3+4j])\n",
    "\n",
    "# 8️⃣ Boolean arrays\n",
    "bool_arr = np.array([True, False, True])\n",
    "\n",
    "# 9️⃣ Diagonal matrix\n",
    "diag_arr = np.diag([1, 2, 3, 4])\n",
    "\n",
    "# 🔟 Reshaped array\n",
    "reshaped_arr = np.arange(1, 13).reshape(3, 4)  # 3x4 matrix\n",
    "\n",
    "# Print examples\n",
    "print(\"From list:\", arr_from_list)\n",
    "print(\"Zeros:\\n\", zeros_arr)\n",
    "print(\"Identity:\\n\", identity_arr)\n",
    "print(\"Range:\", range_arr)\n",
    "print(\"Linspace:\", linspace_arr)\n",
    "print(\"Random:\\n\", rand_arr)\n",
    "print(\"Diagonal:\\n\", diag_arr)\n",
    "print(\"Reshaped:\\n\", reshaped_arr)\n"
   ],
   "id": "53681049792adb3a",
   "outputs": [],
   "execution_count": null
  },
  {
   "metadata": {},
   "cell_type": "markdown",
   "source": [
    "Dim of array\n",
    "\n",
    "Type        | Shape             | Use\n",
    "------------|-------------------|-----------------------------------\n",
    "Scalar      | ()                | Learning rate\n",
    "Vector      | (300,)            | Word embeddings\n",
    "Matrix      | (28,28)           | Grayscale image\n",
    "3D Tensor   | (3,224,224)       | RGB image / NLP seq\n",
    "4D Tensor   | (32,3,224,224)    | Batch of RGB images\n",
    "Higher      | (batch,seq,feat,…)| Advanced NLP / multi-modal\n"
   ],
   "id": "9752114d93d299bc"
  },
  {
   "metadata": {},
   "cell_type": "code",
   "source": [
    "import numpy as np\n",
    "\n",
    "# Scalar (0D)\n",
    "scalar = np.array(42)\n",
    "print(\"Scalar:\", scalar, \"Shape:\", scalar.shape)\n",
    "\n",
    "# Vector (1D)\n",
    "vector = np.array([1, 2, 3])\n",
    "print(\"\\nVector:\\n\", vector, \"Shape:\", vector.shape)\n",
    "\n",
    "# Matrix (2D)\n",
    "matrix = np.array([[1, 2], [3, 4]])\n",
    "print(\"\\nMatrix:\\n\", matrix, \"Shape:\", matrix.shape)\n",
    "\n",
    "# 3D Tensor (Channels x Height x Width)\n",
    "tensor_3d = np.random.rand(3, 4, 4)  # small RGB-like image\n",
    "print(\"\\n3D Tensor:\\n\", tensor_3d, \"Shape:\", tensor_3d.shape)\n",
    "\n",
    "# 4D Tensor (Batch x Channels x Height x Width)\n",
    "tensor_4d = np.random.rand(2, 3, 4, 4)  # batch of RGB images\n",
    "print(\"\\n4D Tensor:\\n\", tensor_4d, \"Shape:\", tensor_4d.shape)\n",
    "\n",
    "# Higher-order Tensor (Batch x Seq_len x Features)\n",
    "tensor_high = np.random.rand(2, 5, 10)  # batch of sequences with features\n",
    "print(\"\\nHigher Tensor:\\n\", tensor_high, \"Shape:\", tensor_high.shape)\n"
   ],
   "id": "829cfc084af1310a",
   "outputs": [],
   "execution_count": null
  },
  {
   "metadata": {},
   "cell_type": "markdown",
   "source": [
    "Array Property\n",
    "Property    | Description                                  | Example Output\n",
    "------------|----------------------------------------------|---------------\n",
    ".ndim       | Number of dimensions                         | 2\n",
    ".shape      | Dimensions as a tuple (rows, cols, …)        | (3, 4)\n",
    ".size       | Total number of elements                     | 12\n",
    ".dtype      | Data type of array elements                  | int32\n",
    ".itemsize   | Size of one element in bytes                  | 4\n",
    ".nbytes     | Total memory (in bytes) consumed by elements | 48\n",
    ".T          | Transposed view of the array                 | Flips rows/cols\n",
    ".data       | Buffer containing actual data                | <memory>\n"
   ],
   "id": "3db48c5107ce1f07"
  },
  {
   "metadata": {},
   "cell_type": "code",
   "source": [
    "import numpy as np\n",
    "\n",
    "arr = np.array([[1, 2, 3], [4, 5, 6]])\n",
    "\n",
    "print(\"Array:\\n\", arr)\n",
    "print(\"Dimensions (ndim):\", arr.ndim)\n",
    "print(\"Shape:\", arr.shape)\n",
    "print(\"Size:\", arr.size)\n",
    "print(\"Data type:\", arr.dtype)\n",
    "print(\"Item size:\", arr.itemsize, \"bytes\")\n",
    "print(\"Total bytes:\", arr.nbytes)\n",
    "print(\"Transposed:\\n\", arr.T)\n"
   ],
   "id": "72a59868e376754c",
   "outputs": [],
   "execution_count": null
  },
  {
   "metadata": {},
   "cell_type": "markdown",
   "source": [
    "Flatten vs ravel\n",
    "\n",
    "Method     | Description                                                                 | Returns Copy or View | Example\n",
    "-----------|------------------------------------------------------------------------------|----------------------|----------------------------------\n",
    "flatten()  | Returns a new 1D array copy of the original array's data                     | Copy                 | arr.flatten()\n",
    "ravel()    | Returns a flattened view of the array when possible; otherwise returns copy | View (if possible)   | arr.ravel()\n"
   ],
   "id": "2250e58ae6045633"
  },
  {
   "metadata": {},
   "cell_type": "code",
   "source": [
    "import numpy as np\n",
    "\n",
    "arr = np.array([[1, 2], [3, 4]])\n",
    "\n",
    "flat_arr = arr.flatten()  # Copy\n",
    "ravel_arr = arr.ravel()   # View\n",
    "\n",
    "# Modify ravel array to see effect on original\n",
    "ravel_arr[0] = 99\n",
    "\n",
    "print(\"Original array:\\n\", arr)  # Notice change if ravel() gave view\n",
    "print(\"Flattened array:\", flat_arr)\n",
    "print(\"Ravelled array:\", ravel_arr)\n"
   ],
   "id": "169a58733d84e4da",
   "outputs": [],
   "execution_count": null
  },
  {
   "metadata": {},
   "cell_type": "markdown",
   "source": [
    "      y\n",
    "      ↑\n",
    "      |\n",
    "      |      ● (x, y)\n",
    "      |\n",
    "      +--------------→ x\n",
    "     (0,0)\n",
    "2D array as a co-ordinate not as a matrix"
   ],
   "id": "64fd6f94b5c51ca9"
  }
 ],
 "metadata": {
  "kernelspec": {
   "display_name": "Python 3",
   "language": "python",
   "name": "python3"
  },
  "language_info": {
   "codemirror_mode": {
    "name": "ipython",
    "version": 2
   },
   "file_extension": ".py",
   "mimetype": "text/x-python",
   "name": "python",
   "nbconvert_exporter": "python",
   "pygments_lexer": "ipython2",
   "version": "2.7.6"
  }
 },
 "nbformat": 4,
 "nbformat_minor": 5
}
