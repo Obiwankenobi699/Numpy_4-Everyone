{
 "cells": [
  {
   "metadata": {},
   "cell_type": "markdown",
   "source": [
    "Numpy Array operation in 1D\n",
    "Operation                  | Method / Function                  | Description\n",
    "---------------------------|------------------------------------|----------------------------------------------------------\n",
    "Basic Slicing               | arr[start:end]                     | Extracts elements from index `start` to `end-1`.\n",
    "Slicing with Step           | arr[start:end:step]                 | Extracts elements with a given step size.\n",
    "Negative Indexing           | arr[-n:]                           | Selects last `n` elements.\n",
    "Reverse (Slicing)           | arr[::-1]                          | Reverses the array using slicing.\n",
    "Reverse with Step           | arr[::-step]                       | Reverses array and selects elements with step size.\n",
    "Inbuilt Reverse (NumPy)     | np.flip(arr)                       | Reverses array using NumPy's built-in function.\n",
    "Sort Ascending (NumPy)      | np.sort(arr)                       | Sorts elements in ascending order.\n",
    "Sort Descending (NumPy)     | np.sort(arr)[::-1]                  | Sorts in ascending order, then reverses for descending.\n",
    "Sort Descending (List)      | list.sort(reverse=True)            | Python list method to sort in descending order (not NumPy).\n",
    "Difference: Reverse vs Sort | Reverse changes only positions,    | Sorting rearranges elements based on their values.\n",
    "                            | values remain the same.            |\n"
   ],
   "id": "83102b6e8ca49202"
  },
  {
   "metadata": {
    "tags": [
     "1"
    ]
   },
   "cell_type": "code",
   "source": "import numpy as np",
   "id": "initial_id",
   "outputs": [],
   "execution_count": null
  },
  {
   "metadata": {},
   "cell_type": "code",
   "source": [
    "import numpy as np\n",
    "\n",
    "arr = np.array([1, 2, 3, 4, 5, 6, 7, 8, 9, 0])\n",
    "\n",
    "print(\"Original array:     \", arr)\n",
    "\n",
    "# Basic slicing\n",
    "print(\"First 5 elements:   \", arr[:5])      # index 0 to 4\n",
    "print(\"Every 2nd element:  \", arr[::2])     # step of 2\n",
    "print(\"Middle slice:       \", arr[3:8])     # index 3 to 7\n",
    "\n",
    "# Negative indexing\n",
    "print(\"Last 3 elements:    \", arr[-3:])     # last three elements\n",
    "print(\"All except last 3:  \", arr[:-3])     # everything except last three\n",
    "\n",
    "# Reversing\n",
    "print(\"Reversed array:     \", arr[::-1])    # reverse using slicing\n",
    "print(\"Reverse every 2nd:  \", arr[::-2])    # reverse, step 2\n",
    "\n",
    "# Inbuilt reverse\n",
    "print(\"Inbuilt np.flip():  \", np.flip(arr)) # reverse using NumPy function\n"
   ],
   "id": "d77b6c16f36db3ea",
   "outputs": [],
   "execution_count": null
  },
  {
   "metadata": {},
   "cell_type": "markdown",
   "source": "Numpy Operation In 2D",
   "id": "2b15e511ad3a9c89"
  },
  {
   "metadata": {},
   "cell_type": "code",
   "source": [
    "import numpy as np\n",
    "\n",
    "# Create a sample 2D array\n",
    "arr = np.array([\n",
    "    [9, 2, 7],\n",
    "    [4, 5, 1],\n",
    "    [8, 3, 6]\n",
    "])\n",
    "\n",
    "print(\"Original Array:\\n\", arr)\n",
    "\n",
    "# 1. Basic slicing\n",
    "print(\"\\nFirst 2 rows:\\n\", arr[:2, :])\n",
    "print(\"First 2 columns:\\n\", arr[:, :2])\n",
    "\n",
    "# 2. Slicing with step\n",
    "print(\"\\nEvery 2nd row:\\n\", arr[::2, :])\n",
    "print(\"Every 2nd column:\\n\", arr[:, ::2])\n",
    "\n",
    "# 3. Negative indexing\n",
    "print(\"\\nLast row:\\n\", arr[-1:, :])\n",
    "print(\"Last column:\\n\", arr[:, -1:])\n",
    "\n",
    "# 4. Reverse\n",
    "print(\"\\nReverse both rows & columns:\\n\", arr[::-1, ::-1])\n",
    "print(\"Reverse rows only (flipud):\\n\", np.flipud(arr))\n",
    "print(\"Reverse columns only (fliplr):\\n\", np.fliplr(arr))\n",
    "print(\"Reverse using np.flip (all axes):\\n\", np.flip(arr))\n",
    "\n",
    "# 5. Sorting\n",
    "# axis=0 → operation is done down the rows, so it affects columns.\n",
    "# axis=1 → operation is done across the columns, so it affects rows.\n",
    "print(\"\\nSort by rows ascending:\\n\", np.sort(arr, axis=1))\n",
    "print(\"Sort by columns ascending:\\n\", np.sort(arr, axis=0))\n",
    "print(\"Sort by rows descending:\\n\", np.sort(arr, axis=1)[:, ::-1])\n",
    "print(\"Sort by columns descending:\\n\", np.sort(arr, axis=0)[::-1, :])\n"
   ],
   "id": "ec598b53e3cbdd80",
   "outputs": [],
   "execution_count": null
  },
  {
   "metadata": {},
   "cell_type": "markdown",
   "source": [
    "Filter & Mask\n",
    "| Concept       | Meaning                                                         | Example         |\n",
    "| ------------- | --------------------------------------------------------------- | --------------- |\n",
    "| **Mask**      | Boolean array indicating which elements meet a condition        | `arr > 30`      |\n",
    "| **Filtering** | Using the mask to get only the elements that meet the condition | `arr[arr > 30]` |\n",
    "\n"
   ],
   "id": "3bfab18d09d4fe14"
  },
  {
   "metadata": {},
   "cell_type": "code",
   "source": [
    "import numpy as np\n",
    "\n",
    "arr2d = np.array([[5, 15, 25],\n",
    "                  [35, 45, 55],\n",
    "                  [65, 75, 85]])\n",
    "\n",
    "# Filtering: Get elements greater than 40\n",
    "filtered_2d = arr2d[arr2d > 40]\n",
    "\n",
    "# Mask: Boolean array for the same condition\n",
    "mask_2d = arr2d > 40\n",
    "\n",
    "\n",
    "print(\"\\n2D Array:\\n\", arr2d)\n",
    "print(\"Filtered (2D):\", filtered_2d)\n",
    "print(\"Mask (2D):\\n\", mask_2d)\n",
    "print(\"Mask ()2D:\\n\", arr2d[mask_2d])\n"
   ],
   "id": "b2b1000c2e63314",
   "outputs": [],
   "execution_count": null
  }
 ],
 "metadata": {
  "kernelspec": {
   "display_name": "Python 3",
   "language": "python",
   "name": "python3"
  },
  "language_info": {
   "codemirror_mode": {
    "name": "ipython",
    "version": 2
   },
   "file_extension": ".py",
   "mimetype": "text/x-python",
   "name": "python",
   "nbconvert_exporter": "python",
   "pygments_lexer": "ipython2",
   "version": "2.7.6"
  }
 },
 "nbformat": 4,
 "nbformat_minor": 5
}
